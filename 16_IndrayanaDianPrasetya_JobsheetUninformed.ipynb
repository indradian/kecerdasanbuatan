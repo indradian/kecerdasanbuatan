{
  "nbformat": 4,
  "nbformat_minor": 0,
  "metadata": {
    "colab": {
      "provenance": [],
      "collapsed_sections": [],
      "authorship_tag": "ABX9TyN0Ejaos2DYRF1EsMoLdcpd",
      "include_colab_link": true
    },
    "kernelspec": {
      "name": "python3",
      "display_name": "Python 3"
    },
    "language_info": {
      "name": "python"
    }
  },
  "cells": [
    {
      "cell_type": "markdown",
      "metadata": {
        "id": "view-in-github",
        "colab_type": "text"
      },
      "source": [
        "<a href=\"https://colab.research.google.com/github/indradian/kecerdasanbuatan/blob/main/16_IndrayanaDianPrasetya_JobsheetUninformed.ipynb\" target=\"_parent\"><img src=\"https://colab.research.google.com/assets/colab-badge.svg\" alt=\"Open In Colab\"/></a>"
      ]
    },
    {
      "cell_type": "markdown",
      "source": [
        "**PERCOBAAN 1 (BFS)**"
      ],
      "metadata": {
        "id": "4sl-Pgwl_Y7S"
      }
    },
    {
      "cell_type": "code",
      "execution_count": 16,
      "metadata": {
        "colab": {
          "base_uri": "https://localhost:8080/"
        },
        "id": "X8CAaak88795",
        "outputId": "5e7080a2-8ec3-45f2-d558-f522bd17683c"
      },
      "outputs": [
        {
          "output_type": "stream",
          "name": "stdout",
          "text": [
            "Hasil penelusuran graf menggunakan BFS:\n",
            "A B C D E F G H "
          ]
        }
      ],
      "source": [
        "graph = {\n",
        "    'A' : ['B', 'C'],\n",
        "    'B' : ['D', 'E'],\n",
        "    'C' : ['F'],\n",
        "    'D' : [],\n",
        "    'E' : ['F'],\n",
        "    'F' : ['H'],\n",
        "    'G' : ['H'],\n",
        "    'H' : ['G']\n",
        "}\n",
        "\n",
        "visited = [] #List to keep track of visited nodes\n",
        "queue = [] #Initialize a queue\n",
        "\n",
        "def bfs(visited, graph, node):\n",
        "  visited.append(node)\n",
        "  queue.append(node)\n",
        "\n",
        "  while queue:\n",
        "    s = queue.pop(0)\n",
        "    print (s, end = \" \")\n",
        "\n",
        "    for neighbour in graph[s]:\n",
        "      if neighbour not in visited:\n",
        "        visited.append(neighbour)\n",
        "        queue.append(neighbour)\n",
        "\n",
        "print(\"Hasil penelusuran graf menggunakan BFS:\")\n",
        "bfs(visited, graph, 'A') "
      ]
    },
    {
      "cell_type": "markdown",
      "source": [
        "**SOAL 3 PERCOBAAN 1(PEMBENARAN)**"
      ],
      "metadata": {
        "id": "7WdQDIwhToFa"
      }
    },
    {
      "cell_type": "code",
      "source": [
        "graph = {\n",
        "    'A' : ['B', 'C'],\n",
        "    'B' : ['D', 'A'],\n",
        "    'C' : ['A', 'F'],\n",
        "    'D' : ['B'],\n",
        "    'E' : ['F'],\n",
        "    'F' : ['C', 'H'],\n",
        "    'G' : ['H'],\n",
        "    'H' : ['F', 'G']\n",
        "}\n",
        "\n",
        "visited = [] #List to keep track of visited nodes\n",
        "queue = [] #Initialize a queue\n",
        "\n",
        "def bfs(visited, graph, node):\n",
        "  visited.append(node)\n",
        "  queue.append(node)\n",
        "\n",
        "  while queue:\n",
        "    s = queue.pop(0)\n",
        "    print (s, end = \" \")\n",
        "\n",
        "    for neighbour in graph[s]:\n",
        "      if neighbour not in visited:\n",
        "        visited.append(neighbour)\n",
        "        queue.append(neighbour)\n",
        "\n",
        "print(\"Hasil penelusuran graf menggunakan BFS:\")\n",
        "bfs(visited, graph, 'A') "
      ],
      "metadata": {
        "colab": {
          "base_uri": "https://localhost:8080/"
        },
        "id": "lz26zNU-TeVK",
        "outputId": "206854c9-a515-4b48-a4ff-1ade042c0404"
      },
      "execution_count": 18,
      "outputs": [
        {
          "output_type": "stream",
          "name": "stdout",
          "text": [
            "Hasil penelusuran graf menggunakan BFS:\n",
            "A B C D F H G "
          ]
        }
      ]
    },
    {
      "cell_type": "markdown",
      "source": [
        "**PERCOBAAN 2(DFS)**"
      ],
      "metadata": {
        "id": "8lCVrxPl_yxE"
      }
    },
    {
      "cell_type": "code",
      "source": [],
      "metadata": {
        "id": "q9b1nDeLTmdu"
      },
      "execution_count": null,
      "outputs": []
    },
    {
      "cell_type": "code",
      "source": [
        "graph = {\n",
        "    'A' : ['B', 'C'],\n",
        "    'B' : ['D', 'E'],\n",
        "    'C' : ['F'],\n",
        "    'D' : [],\n",
        "    'E' : ['F'],\n",
        "    'F' : ['H'],\n",
        "    'G' : ['H'],\n",
        "    'H' : ['G']\n",
        "}\n",
        "\n",
        "visited = set()\n",
        "\n",
        "def dfs(visited, graph, node):\n",
        "  if node not in visited:\n",
        "    print (node)\n",
        "    visited.add(node)\n",
        "    for neighbour in graph[node]:\n",
        "      dfs(visited, graph, neighbour)\n",
        "\n",
        "print(\"Hasil penelusuran graf menggunakan DFS:\")\n",
        "dfs(visited, graph, 'A')"
      ],
      "metadata": {
        "colab": {
          "base_uri": "https://localhost:8080/",
          "height": 0
        },
        "id": "V5VcqWGu_YJa",
        "outputId": "0f7b0967-7f04-4f77-a13b-dfee9e19cfc5"
      },
      "execution_count": 2,
      "outputs": [
        {
          "output_type": "stream",
          "name": "stdout",
          "text": [
            "Hasil penelusuran graf menggunakan DFS:\n",
            "A\n",
            "B\n",
            "D\n",
            "E\n",
            "F\n",
            "H\n",
            "G\n",
            "C\n"
          ]
        }
      ]
    },
    {
      "cell_type": "markdown",
      "source": [
        "**PRAKTIKUM 1**"
      ],
      "metadata": {
        "id": "S188X6i1BWQW"
      }
    },
    {
      "cell_type": "code",
      "source": [
        "#POIN A(BFS)\n",
        "graph = {\n",
        "    'A' : ['B', 'E', 'F'],\n",
        "    'B' : ['A', 'F', 'G'],\n",
        "    'C' : ['D', 'G'],\n",
        "    'D' : ['C', 'H'],\n",
        "    'E' : ['A', 'F'],\n",
        "    'F' : ['A', 'B', 'E'],\n",
        "    'G' : ['B', 'C', 'H'],\n",
        "    'H' : ['D', 'G']\n",
        "}\n",
        "\n",
        "visited = [] #List to keep track of visited nodes\n",
        "queue = [] #Initialize a queue\n",
        "\n",
        "def bfs(visited, graph, node):\n",
        "  visited.append(node)\n",
        "  queue.append(node)\n",
        "\n",
        "  while queue:\n",
        "    s = queue.pop(0)\n",
        "    print (s, end = \" \")\n",
        "\n",
        "    for neighbour in graph[s]:\n",
        "      if neighbour not in visited:\n",
        "        visited.append(neighbour)\n",
        "        queue.append(neighbour)\n",
        "\n",
        "print(\"Hasil penelusuran graf menggunakan BFS:\")\n",
        "bfs(visited, graph, 'A') \n",
        "\n",
        "#POIN B(DFS)\n",
        "visited = set()\n",
        "\n",
        "def dfs(visited, graph, node):\n",
        "  if node not in visited:\n",
        "    print (node)\n",
        "    visited.add(node)\n",
        "    for neighbour in graph[node]:\n",
        "      dfs(visited, graph, neighbour)\n",
        "\n",
        "print(\"\\nHasil penelusuran graf menggunakan DFS:\")\n",
        "dfs(visited, graph, 'A')"
      ],
      "metadata": {
        "colab": {
          "base_uri": "https://localhost:8080/"
        },
        "id": "0vB5CloFBTJr",
        "outputId": "04388793-b799-44b3-d2ad-951adc35d3b1"
      },
      "execution_count": 12,
      "outputs": [
        {
          "output_type": "stream",
          "name": "stdout",
          "text": [
            "Hasil penelusuran graf menggunakan BFS:\n",
            "A B E F G C H D \n",
            "Hasil penelusuran graf menggunakan DFS:\n",
            "A\n",
            "B\n",
            "F\n",
            "E\n",
            "G\n",
            "C\n",
            "D\n",
            "H\n"
          ]
        }
      ]
    },
    {
      "cell_type": "markdown",
      "source": [
        "**PRAKTIKUM 2**"
      ],
      "metadata": {
        "id": "_ZbyX7C8Etu8"
      }
    },
    {
      "cell_type": "code",
      "source": [
        "#POIN A(BFS)\n",
        "graph = {\n",
        "    'A' : ['B'],\n",
        "    'B' : ['F', 'G'],\n",
        "    'C' : ['D', 'G'],\n",
        "    'D' : ['C', 'H'],\n",
        "    'E' : ['F'],\n",
        "    'F' : ['B', 'E', 'G'],\n",
        "    'G' : ['B', 'C'],\n",
        "    'H' : ['D']\n",
        "}\n",
        "\n",
        "visited = [] #List to keep track of visited nodes\n",
        "queue = [] #Initialize a queue\n",
        "\n",
        "def bfs(visited, graph, node):\n",
        "  visited.append(node)\n",
        "  queue.append(node)\n",
        "\n",
        "  while queue:\n",
        "    s = queue.pop(0)\n",
        "    print (s, end = \" \")\n",
        "\n",
        "    for neighbour in graph[s]:\n",
        "      if neighbour not in visited:\n",
        "        visited.append(neighbour)\n",
        "        queue.append(neighbour)\n",
        "\n",
        "print(\"Hasil penelusuran graf menggunakan BFS:\")\n",
        "bfs(visited, graph, 'D') \n",
        "\n",
        "#POIN B(DFS)\n",
        "visited = set()\n",
        "\n",
        "def dfs(visited, graph, node):\n",
        "  if node not in visited:\n",
        "    print (node)\n",
        "    visited.add(node)\n",
        "    for neighbour in graph[node]:\n",
        "      dfs(visited, graph, neighbour)\n",
        "\n",
        "print(\"\\nHasil penelusuran graf menggunakan DFS:\")\n",
        "dfs(visited, graph, 'D')"
      ],
      "metadata": {
        "colab": {
          "base_uri": "https://localhost:8080/"
        },
        "id": "SwHyGNC5Ew8X",
        "outputId": "06a3775c-95f1-4ecb-f8bf-6280d71d66a8"
      },
      "execution_count": 15,
      "outputs": [
        {
          "output_type": "stream",
          "name": "stdout",
          "text": [
            "Hasil penelusuran graf menggunakan BFS:\n",
            "D C H G B F E \n",
            "Hasil penelusuran graf menggunakan DFS:\n",
            "D\n",
            "C\n",
            "G\n",
            "B\n",
            "F\n",
            "E\n",
            "H\n"
          ]
        }
      ]
    }
  ]
}